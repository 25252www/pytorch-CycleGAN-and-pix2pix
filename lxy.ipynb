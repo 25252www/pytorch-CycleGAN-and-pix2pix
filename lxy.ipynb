{
 "cells": [
  {
   "cell_type": "markdown",
   "metadata": {},
   "source": [
    "注意切换环境\n",
    "source activate solaris"
   ]
  },
  {
   "cell_type": "code",
   "execution_count": null,
   "metadata": {},
   "outputs": [],
   "source": [
    "import os\n",
    "os.chdir('/home/liuxiangyu/pytorch-CycleGAN-and-pix2pix')"
   ]
  },
  {
   "cell_type": "code",
   "execution_count": null,
   "metadata": {},
   "outputs": [],
   "source": [
    "!python gen_span2fused_dataset.py"
   ]
  },
  {
   "cell_type": "code",
   "execution_count": null,
   "metadata": {},
   "outputs": [],
   "source": [
    "# 创建aligned数据集，加--no_multiprocessing好调试，不加可能启动线程过多报错\n",
    "!python ./datasets/combine_A_and_B.py --fold_A ./datasets/span2fused/A --fold_B ./datasets/span2fused/B --fold_AB ./datasets/span2fused/AB --no_multiprocessing"
   ]
  },
  {
   "cell_type": "code",
   "execution_count": null,
   "metadata": {},
   "outputs": [],
   "source": [
    "!python train.py --dataroot ./datasets/span2fused/AB --name span2fused --model pix2pix --direction AtoB"
   ]
  },
  {
   "cell_type": "code",
   "execution_count": null,
   "metadata": {},
   "outputs": [],
   "source": [
    "!python test.py --dataroot ./datasets/span2fused/AB --name span2fused --model pix2pix --direction AtoB"
   ]
  }
 ],
 "metadata": {
  "interpreter": {
   "hash": "d462411eb9638572f7bdc354db1f2d4fabd664429bf2ae3d442bc35bb08570fb"
  },
  "kernelspec": {
   "display_name": "Python 3.7.12 ('solaris')",
   "language": "python",
   "name": "python3"
  },
  "language_info": {
   "codemirror_mode": {
    "name": "ipython",
    "version": 3
   },
   "file_extension": ".py",
   "mimetype": "text/x-python",
   "name": "python",
   "nbconvert_exporter": "python",
   "pygments_lexer": "ipython3",
   "version": "3.7.12"
  },
  "orig_nbformat": 4
 },
 "nbformat": 4,
 "nbformat_minor": 2
}
